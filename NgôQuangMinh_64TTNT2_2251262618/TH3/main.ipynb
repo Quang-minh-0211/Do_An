{
 "cells": [
  {
   "cell_type": "code",
   "execution_count": 1,
   "id": "11c8dedc",
   "metadata": {},
   "outputs": [],
   "source": [
    "import pandas as pd\n",
    "from sklearn.model_selection import train_test_split\n",
    "from sklearn.preprocessing import StandardScaler\n",
    "from sklearn.ensemble import RandomForestClassifier\n",
    "from sklearn.svm import SVC\n",
    "from sklearn.tree import DecisionTreeClassifier\n",
    "from sklearn.neighbors import KNeighborsClassifier\n",
    "from sklearn.metrics import classification_report"
   ]
  },
  {
   "cell_type": "code",
   "execution_count": 3,
   "id": "b09cf7e0",
   "metadata": {},
   "outputs": [],
   "source": [
    "df = pd.read_csv(r\"D:\\BigData And DataMining\\Đồ án\\TH3\\Maternal Health Risk Data Set.csv\")"
   ]
  },
  {
   "cell_type": "code",
   "execution_count": 4,
   "id": "4d199135",
   "metadata": {},
   "outputs": [],
   "source": [
    "# Tách dữ liệu\n",
    "X = df.drop('RiskLevel', axis=1)\n",
    "y = df['RiskLevel']  # 1 = normal, 2 = suspect, 3 = pathological"
   ]
  },
  {
   "cell_type": "code",
   "execution_count": 5,
   "id": "6e0e13dd",
   "metadata": {},
   "outputs": [],
   "source": [
    "# Chuẩn hóa\n",
    "scaler = StandardScaler()\n",
    "X_scaled = scaler.fit_transform(X)\n"
   ]
  },
  {
   "cell_type": "code",
   "execution_count": 6,
   "id": "d4cc9cbe",
   "metadata": {},
   "outputs": [],
   "source": [
    "# Chia tập huấn luyện & kiểm tra\n",
    "X_train, X_test, y_train, y_test = train_test_split(X_scaled, y, test_size=0.2, random_state=42)\n"
   ]
  },
  {
   "cell_type": "code",
   "execution_count": 7,
   "id": "9c1d154d",
   "metadata": {},
   "outputs": [
    {
     "name": "stdout",
     "output_type": "stream",
     "text": [
      "\n",
      "Random Forest:\n",
      "\n",
      "              precision    recall  f1-score   support\n",
      "\n",
      "   high risk       0.87      0.85      0.86        47\n",
      "    low risk       0.86      0.76      0.81        80\n",
      "    mid risk       0.74      0.84      0.79        76\n",
      "\n",
      "    accuracy                           0.81       203\n",
      "   macro avg       0.82      0.82      0.82       203\n",
      "weighted avg       0.82      0.81      0.81       203\n",
      "\n",
      "\n",
      "SVM:\n",
      "\n",
      "              precision    recall  f1-score   support\n",
      "\n",
      "   high risk       0.80      0.85      0.82        47\n",
      "    low risk       0.61      0.88      0.72        80\n",
      "    mid risk       0.74      0.37      0.49        76\n",
      "\n",
      "    accuracy                           0.68       203\n",
      "   macro avg       0.72      0.70      0.68       203\n",
      "weighted avg       0.70      0.68      0.66       203\n",
      "\n",
      "\n",
      "Decision Tree:\n",
      "\n",
      "              precision    recall  f1-score   support\n",
      "\n",
      "   high risk       0.83      0.85      0.84        47\n",
      "    low risk       0.86      0.78      0.82        80\n",
      "    mid risk       0.77      0.84      0.81        76\n",
      "\n",
      "    accuracy                           0.82       203\n",
      "   macro avg       0.82      0.82      0.82       203\n",
      "weighted avg       0.82      0.82      0.82       203\n",
      "\n",
      "\n",
      "KNN:\n",
      "\n",
      "              precision    recall  f1-score   support\n",
      "\n",
      "   high risk       0.75      0.81      0.78        47\n",
      "    low risk       0.60      0.72      0.66        80\n",
      "    mid risk       0.60      0.43      0.50        76\n",
      "\n",
      "    accuracy                           0.64       203\n",
      "   macro avg       0.65      0.66      0.64       203\n",
      "weighted avg       0.63      0.64      0.63       203\n",
      "\n"
     ]
    }
   ],
   "source": [
    "# Các mô hình học máy\n",
    "models = {\n",
    "    \"Random Forest\": RandomForestClassifier(n_estimators=100, random_state=42),\n",
    "    \"SVM\": SVC(kernel='rbf', probability=True),\n",
    "    \"Decision Tree\": DecisionTreeClassifier(random_state=42),\n",
    "    \"KNN\": KNeighborsClassifier(n_neighbors=5)\n",
    "}\n",
    "\n",
    "# Huấn luyện và đánh giá\n",
    "for name, model in models.items():\n",
    "    model.fit(X_train, y_train)\n",
    "    y_pred = model.predict(X_test)\n",
    "    print(f\"\\n{name}:\\n\")\n",
    "    print(classification_report(y_test, y_pred))"
   ]
  }
 ],
 "metadata": {
  "kernelspec": {
   "display_name": "Python 3",
   "language": "python",
   "name": "python3"
  },
  "language_info": {
   "codemirror_mode": {
    "name": "ipython",
    "version": 3
   },
   "file_extension": ".py",
   "mimetype": "text/x-python",
   "name": "python",
   "nbconvert_exporter": "python",
   "pygments_lexer": "ipython3",
   "version": "3.10.11"
  }
 },
 "nbformat": 4,
 "nbformat_minor": 5
}
